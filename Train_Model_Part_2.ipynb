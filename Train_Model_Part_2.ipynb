{
  "nbformat": 4,
  "nbformat_minor": 0,
  "metadata": {
    "colab": {
      "provenance": [],
      "authorship_tag": "ABX9TyOxUt9BKf22+7qoCijilWWS",
      "include_colab_link": true
    },
    "kernelspec": {
      "name": "python3",
      "display_name": "Python 3"
    },
    "language_info": {
      "name": "python"
    }
  },
  "cells": [
    {
      "cell_type": "markdown",
      "metadata": {
        "id": "view-in-github",
        "colab_type": "text"
      },
      "source": [
        "<a href=\"https://colab.research.google.com/github/YYL1129/House_Model_Prediction_Model/blob/main/Train_Model_Part_2.ipynb\" target=\"_parent\"><img src=\"https://colab.research.google.com/assets/colab-badge.svg\" alt=\"Open In Colab\"/></a>"
      ]
    },
    {
      "cell_type": "code",
      "execution_count": 4,
      "metadata": {
        "colab": {
          "base_uri": "https://localhost:8080/"
        },
        "id": "5vT1e2qrfU1K",
        "outputId": "dfbe0be6-fbc8-4aa5-c220-aacb487e3ee2"
      },
      "outputs": [
        {
          "output_type": "stream",
          "name": "stdout",
          "text": [
            "Prediction: ✅ Worth Buying\n"
          ]
        }
      ],
      "source": [
        "import joblib\n",
        "import pandas as pd\n",
        "\n",
        "# Load the uploaded model\n",
        "loaded_model = joblib.load('house_model.pkl')\n",
        "\n",
        "# Use it\n",
        "new_house = pd.DataFrame({\n",
        "    'price': [420000],\n",
        "    'size_sqft': [900],\n",
        "    'bedrooms': [2],\n",
        "    'bathrooms': [1],\n",
        "    'age_years': [5],\n",
        "    'near_mrt': [1],\n",
        "    'location_score': [8]\n",
        "})\n",
        "\n",
        "prediction = loaded_model.predict(new_house)[0]\n",
        "print(\"Prediction:\", \"✅ Worth Buying\" if prediction == 1 else \"❌ Not Worth\")\n"
      ]
    }
  ]
}